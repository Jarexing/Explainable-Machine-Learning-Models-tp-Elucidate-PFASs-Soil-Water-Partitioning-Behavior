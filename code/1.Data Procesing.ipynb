{
 "cells": [
  {
   "cell_type": "code",
   "execution_count": 1,
   "metadata": {},
   "outputs": [
    {
     "name": "stderr",
     "output_type": "stream",
     "text": [
      "C:\\Users\\20529\\AppData\\Local\\Temp\\ipykernel_9872\\2491817778.py:33: SettingWithCopyWarning: \n",
      "A value is trying to be set on a copy of a slice from a DataFrame\n",
      "\n",
      "See the caveats in the documentation: https://pandas.pydata.org/pandas-docs/stable/user_guide/indexing.html#returning-a-view-versus-a-copy\n",
      "  data_final.drop(columns=duplicates, inplace=True)\n"
     ]
    }
   ],
   "source": [
    "import pandas as pd\n",
    "from sklearn.preprocessing import StandardScaler\n",
    "\n",
    "# Read and save the original data\n",
    "data = pd.read_excel('../data/data-1.xlsx')\n",
    "original_data = data.copy()\n",
    "\n",
    "# Delete features with varience less than 0.1\n",
    "variances = original_data.iloc[:, 2:].var() \n",
    "variance_threshold = 0.1\n",
    "features_to_keep = variances[variances > variance_threshold].index\n",
    "\n",
    "# Z-score normalization\n",
    "scaler = StandardScaler()\n",
    "feature_columns = data.columns.drop(['PFAS', 'LogKd'])\n",
    "data[feature_columns] = scaler.fit_transform(data[feature_columns])\n",
    "\n",
    "# Remove collinear features Using Spearmangit correlation greater than 0.8\n",
    "correlation_matrix = data.iloc[:, 2:].corr(method='spearman')\n",
    "threshold = 0.80\n",
    "columns_to_drop = []\n",
    "for i in range(len(correlation_matrix.columns)):\n",
    "    for j in range(i):\n",
    "        if abs(correlation_matrix.iloc[i, j]) > threshold:\n",
    "            colname = correlation_matrix.columns[i]\n",
    "            columns_to_drop.append(colname)\n",
    "\n",
    "data_reduced = data.drop(columns=list(set(columns_to_drop)))\n",
    "\n",
    "# Select the retained features from the original data\n",
    "data_final = original_data[['PFAS', 'LogKd'] + list(features_to_keep)]\n",
    "duplicates = data_final.columns[data_final.columns.duplicated()]\n",
    "data_final.drop(columns=duplicates, inplace=True)\n",
    "\n",
    "data_final.to_excel('../data/data-2.xlsx', index=False)"
   ]
  },
  {
   "cell_type": "code",
   "execution_count": 2,
   "metadata": {},
   "outputs": [
    {
     "name": "stderr",
     "output_type": "stream",
     "text": [
      "C:\\Users\\20529\\AppData\\Local\\Temp\\ipykernel_9872\\1741519302.py:31: SettingWithCopyWarning: \n",
      "A value is trying to be set on a copy of a slice from a DataFrame.\n",
      "Try using .loc[row_indexer,col_indexer] = value instead\n",
      "\n",
      "See the caveats in the documentation: https://pandas.pydata.org/pandas-docs/stable/user_guide/indexing.html#returning-a-view-versus-a-copy\n",
      "  top_features_data['LogKd'] = y\n"
     ]
    }
   ],
   "source": [
    "import pandas as pd\n",
    "import numpy as np\n",
    "from sklearn.ensemble import RandomForestRegressor\n",
    "\n",
    "# Read data\n",
    "data = pd.read_excel('../data/data-2.xlsx')\n",
    "data.fillna(0, inplace=True)\n",
    "\n",
    "X = data.drop(columns=['PFAS', 'LogKd'])\n",
    "y = data['LogKd']\n",
    "\n",
    "# Caculate mean and std to remove outliers\n",
    "mean = data.iloc[:, 1].mean()\n",
    "std = data.iloc[:, 1].std()\n",
    "data = data[(data.iloc[:, 1] > mean - 3*std) & (data.iloc[:, 1] < mean + 3*std)].dropna()\n",
    "\n",
    "# Using RF to caculate feature importance, repeat 100 times\n",
    "feature_importances = np.zeros(X.shape[1])\n",
    "\n",
    "n_repeats = 100\n",
    "for _ in range(n_repeats):\n",
    "    model = RandomForestRegressor()\n",
    "    model.fit(X, y)\n",
    "    feature_importances += model.feature_importances_\n",
    "    feature_importances /= n_repeats\n",
    "\n",
    "# Get the indices of important features and read the corresponding data to save\n",
    "top_indices = np.argsort(feature_importances)[-50:]\n",
    "top_features = X.columns[top_indices]\n",
    "top_features_data = data[top_features]\n",
    "top_features_data['LogKd'] = y\n",
    "\n",
    "top_features_data.to_excel('../data/data-2-1.xlsx', index=False)"
   ]
  }
 ],
 "metadata": {
  "kernelspec": {
   "display_name": "base",
   "language": "python",
   "name": "python3"
  },
  "language_info": {
   "codemirror_mode": {
    "name": "ipython",
    "version": 3
   },
   "file_extension": ".py",
   "mimetype": "text/x-python",
   "name": "python",
   "nbconvert_exporter": "python",
   "pygments_lexer": "ipython3",
   "version": "3.12.3"
  }
 },
 "nbformat": 4,
 "nbformat_minor": 2
}
